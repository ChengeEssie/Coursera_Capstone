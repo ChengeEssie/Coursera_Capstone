{
    "cells": [
        {
            "metadata": {
                "collapsed": true
            },
            "cell_type": "markdown",
            "source": "# Background <br>\nWorley is a renowned consultancy firm specialising in chemicals, energy and resources. It has over 50 000 employees and offices in over 60 countries all around the world. John, a recent graduate, has been offered a position as a process engineer for Worley and he is beside himself with joy. The employer has made it known to him that he can choose which office he wants to work from between two options, that is, the office in Stockton_on_Tees in United Kingdom and the office in Bunbury in Australia. The job description and remuneration for the two locations  is the same. This is not an easy choice for John to make as he has no prior knowledge of the quality of life in either of the two places. John describes himself as a young professional who is somewhat of a health enthusiast. He enjoys going out and meeting new people from diverse backgrounds. He is a devout Christian and religiously attends the Catholic Church services at least once a week. Some of his hobbies include hiking and painting. John understands that his life outside of work has a direct impact on his work performance, therefore, he is seriously considering which of the two places would best serve his needs and give him the best chance to succeed at his new role. <br>\n\n# Problem <br>\nThe aim of the project is to determine the most suitable location that John should move to for his new job offer based on his profile.<br>\n\n# Interest <br>\nIt is in John and the employer's interest that he makes the right decision in choosing his work location as this will ensure that he is happy, hits the ground running and performs well at the new job, therefore, contributing to Worley meeting its business targets. As he will be living the nest for the first time, John's family will also be interested in this project as it would give them a peace of mind knowing that he is happy where he is. \n"
        },
        {
            "metadata": {},
            "cell_type": "code",
            "source": "",
            "execution_count": null,
            "outputs": []
        }
    ],
    "metadata": {
        "kernelspec": {
            "name": "python3",
            "display_name": "Python 3.7",
            "language": "python"
        },
        "language_info": {
            "name": "python",
            "version": "3.7.10",
            "mimetype": "text/x-python",
            "codemirror_mode": {
                "name": "ipython",
                "version": 3
            },
            "pygments_lexer": "ipython3",
            "nbconvert_exporter": "python",
            "file_extension": ".py"
        }
    },
    "nbformat": 4,
    "nbformat_minor": 1
}